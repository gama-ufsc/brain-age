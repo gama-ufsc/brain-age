{
 "cells": [
  {
   "cell_type": "code",
   "execution_count": 11,
   "id": "3b1f6043-8859-4743-965b-b8d705050286",
   "metadata": {},
   "outputs": [
    {
     "name": "stderr",
     "output_type": "stream",
     "text": [
      "Python-dotenv could not parse statement starting at line 6\n",
      "Python-dotenv could not parse statement starting at line 8\n",
      "Python-dotenv could not parse statement starting at line 9\n",
      "Python-dotenv could not parse statement starting at line 11\n",
      "Python-dotenv could not parse statement starting at line 12\n"
     ]
    }
   ],
   "source": [
    "import sys\n",
    "import pickle\n",
    "from pathlib import Path\n",
    "\n",
    "from dotenv import find_dotenv, load_dotenv\n",
    "# find .env automagically by walking up directories until it's found, then\n",
    "# load up the .env entries as environment variables\n",
    "load_dotenv(find_dotenv())\n",
    "\n",
    "PROJ_ROOT = Path('/home/jupyter/gama/bruno')\n",
    "\n",
    "from tqdm.notebook import tqdm\n",
    "\n",
    "import h5py\n",
    "import matplotlib.pyplot as plt\n",
    "import numpy as np\n",
    "import pandas as pd\n",
    "import torch"
   ]
  },
  {
   "cell_type": "markdown",
   "id": "d2962ebd-4398-438f-9cc5-4d959d6f212b",
   "metadata": {},
   "source": [
    "# Data"
   ]
  },
  {
   "cell_type": "code",
   "execution_count": 2,
   "id": "442cc06a-0c0c-40d1-a1a0-b8a41098b2af",
   "metadata": {},
   "outputs": [],
   "source": [
    "import wandb\n",
    "\n",
    "import torch\n",
    "from torchvision import models\n",
    "from torch import nn\n",
    "\n",
    "device = torch.device(\"cuda:0\" if torch.cuda.is_available() else \"cpu\")\n",
    "\n",
    "def load_from_wandb(net: nn.Module, run_id: str,\n",
    "                    project='ADNI-brain-age', model_fname='model_last'):\n",
    "    best_model_file = wandb.restore(\n",
    "        model_fname+'.pth',\n",
    "        run_path=f\"gama/{project}/{run_id}\",\n",
    "        replace=True\n",
    "    )\n",
    "    net.load_state_dict(torch.load(best_model_file.name))\n",
    "\n",
    "    return net\n",
    "\n",
    "class BraTSnnUNet(nn.Module):\n",
    "    def __init__(self, network, freeze=False):\n",
    "        \"\"\"`network` must be a nnU-Net `Generic_UNet`.\n",
    "        \"\"\"\n",
    "        super().__init__()\n",
    "\n",
    "        self.brats_encoder = network.conv_blocks_context\n",
    "\n",
    "        self.pooling = nn.AvgPool2d(5)\n",
    "\n",
    "        self.fc = nn.Linear(480,1)\n",
    "\n",
    "        if freeze:\n",
    "            self.freeze()\n",
    "\n",
    "    def forward(self, x):\n",
    "        for d in range(len(self.brats_encoder)):\n",
    "            x = self.brats_encoder[d](x)\n",
    "\n",
    "        x = self.pooling(x)\n",
    "\n",
    "        y = self.fc(x.squeeze()).squeeze()\n",
    "\n",
    "        return y\n",
    "\n",
    "    def freeze(self):\n",
    "        for param in self.brats_encoder.parameters():\n",
    "            param.requires_grad = False\n",
    "\n",
    "    def unfreeze(self):\n",
    "        for param in self.model.brats_encoder.parameters():\n",
    "            param.requires_grad = True"
   ]
  },
  {
   "cell_type": "code",
   "execution_count": 7,
   "id": "ddcdf071-357e-4d97-9aa3-4322353dbfdc",
   "metadata": {},
   "outputs": [
    {
     "data": {
      "text/plain": [
       "504.0"
      ]
     },
     "execution_count": 7,
     "metadata": {},
     "output_type": "execute_result"
    }
   ],
   "source": [
    "import h5py\n",
    "\n",
    "from torch.utils.data import Dataset, DataLoader\n",
    "from torchvision import transforms\n",
    "\n",
    "DATASET_FPATH = Path('/home/jupyter/gama/bruno/data/interim/ADNI123_slices_fix_2mm_split_class.hdf5')\n",
    "\n",
    "class ADNIDataset(Dataset):\n",
    "    def __init__(\n",
    "        self,\n",
    "        hdf5_fpath,\n",
    "        transform=torch.Tensor,\n",
    "        dataset='train',\n",
    "    ) -> None:\n",
    "        super().__init__()\n",
    "\n",
    "        hdf5_fpath = Path(hdf5_fpath)\n",
    "        assert hdf5_fpath.exists()\n",
    "\n",
    "        self._fpath = hdf5_fpath\n",
    "        self.dataset = dataset\n",
    "\n",
    "        self.transform = transform\n",
    "\n",
    "    def __len__(self):\n",
    "        with h5py.File(self._fpath, 'r') as h:\n",
    "            if self.dataset == 'train+val':\n",
    "                l = h['train']['y'].shape[0]\n",
    "                l += h['val']['y'].shape[0]\n",
    "            else:\n",
    "                l = h[self.dataset]['y'].shape[0]\n",
    "\n",
    "        return l\n",
    "\n",
    "    def __getitem__(self, index: int):\n",
    "        if self.dataset == 'train+val':\n",
    "            with h5py.File(self._fpath, 'r') as h:\n",
    "                train_len = h['train']['y'].shape[0]\n",
    "            index_ = index - train_len\n",
    "\n",
    "            if index_ < 0:\n",
    "                dataset = 'train'\n",
    "            else:\n",
    "                dataset = 'val'\n",
    "        else:\n",
    "            index_ = index\n",
    "            dataset = self.dataset\n",
    "\n",
    "        with h5py.File(self._fpath, 'r') as h:\n",
    "            img = h[dataset]['X'][index_]\n",
    "            age = h[dataset]['a'][index_]\n",
    "            label = h[dataset]['y'][index_]\n",
    "\n",
    "        # transform\n",
    "        if self.transform is not None:\n",
    "            img = self.transform(img)\n",
    "\n",
    "        return img, age, label\n",
    "\n",
    "h = lambda x: x*25+75\n",
    "\n",
    "data = ADNIDataset(DATASET_FPATH, dataset='val')\n",
    "data_loader = DataLoader(data, batch_size=40, shuffle=False)\n",
    "\n",
    "len(data) / 40"
   ]
  },
  {
   "cell_type": "code",
   "execution_count": 4,
   "id": "98bdcddf-0d41-486c-8f63-eca722afd3e0",
   "metadata": {},
   "outputs": [
    {
     "data": {
      "text/plain": [
       "504.0"
      ]
     },
     "execution_count": 4,
     "metadata": {},
     "output_type": "execute_result"
    }
   ],
   "source": [
    "len(ADNIDataset(DATASET_FPATH, dataset='test')) / 40"
   ]
  },
  {
   "cell_type": "code",
   "execution_count": 5,
   "id": "524430b9-45ea-4b20-a0fe-1a87d49f91e6",
   "metadata": {},
   "outputs": [
    {
     "data": {
      "text/plain": [
       "4719.0"
      ]
     },
     "execution_count": 5,
     "metadata": {},
     "output_type": "execute_result"
    }
   ],
   "source": [
    "len(ADNIDataset(DATASET_FPATH, dataset='train')) / 40"
   ]
  },
  {
   "cell_type": "code",
   "execution_count": 58,
   "id": "1bad6261-0082-4d6b-95b2-ca8f625dc88c",
   "metadata": {
    "collapsed": true,
    "jupyter": {
     "outputs_hidden": true
    },
    "tags": []
   },
   "outputs": [
    {
     "data": {
      "text/plain": [
       "BraTSnnUNet(\n",
       "  (brats_encoder): ModuleList(\n",
       "    (0): StackedConvLayers(\n",
       "      (blocks): Sequential(\n",
       "        (0): ConvDropoutNormNonlin(\n",
       "          (conv): Conv2d(1, 32, kernel_size=[3, 3], stride=(1, 1), padding=[1, 1])\n",
       "          (instnorm): BatchNorm2d(32, eps=1e-05, momentum=0.1, affine=True, track_running_stats=True)\n",
       "          (lrelu): LeakyReLU(negative_slope=0.01, inplace=True)\n",
       "        )\n",
       "        (1): ConvDropoutNormNonlin(\n",
       "          (conv): Conv2d(32, 32, kernel_size=[3, 3], stride=(1, 1), padding=[1, 1])\n",
       "          (instnorm): BatchNorm2d(32, eps=1e-05, momentum=0.1, affine=True, track_running_stats=True)\n",
       "          (lrelu): LeakyReLU(negative_slope=0.01, inplace=True)\n",
       "        )\n",
       "      )\n",
       "    )\n",
       "    (1): StackedConvLayers(\n",
       "      (blocks): Sequential(\n",
       "        (0): ConvDropoutNormNonlin(\n",
       "          (conv): Conv2d(32, 64, kernel_size=[3, 3], stride=[2, 2], padding=[1, 1])\n",
       "          (instnorm): BatchNorm2d(64, eps=1e-05, momentum=0.1, affine=True, track_running_stats=True)\n",
       "          (lrelu): LeakyReLU(negative_slope=0.01, inplace=True)\n",
       "        )\n",
       "        (1): ConvDropoutNormNonlin(\n",
       "          (conv): Conv2d(64, 64, kernel_size=[3, 3], stride=(1, 1), padding=[1, 1])\n",
       "          (instnorm): BatchNorm2d(64, eps=1e-05, momentum=0.1, affine=True, track_running_stats=True)\n",
       "          (lrelu): LeakyReLU(negative_slope=0.01, inplace=True)\n",
       "        )\n",
       "      )\n",
       "    )\n",
       "    (2): StackedConvLayers(\n",
       "      (blocks): Sequential(\n",
       "        (0): ConvDropoutNormNonlin(\n",
       "          (conv): Conv2d(64, 128, kernel_size=[3, 3], stride=[2, 2], padding=[1, 1])\n",
       "          (instnorm): BatchNorm2d(128, eps=1e-05, momentum=0.1, affine=True, track_running_stats=True)\n",
       "          (lrelu): LeakyReLU(negative_slope=0.01, inplace=True)\n",
       "        )\n",
       "        (1): ConvDropoutNormNonlin(\n",
       "          (conv): Conv2d(128, 128, kernel_size=[3, 3], stride=(1, 1), padding=[1, 1])\n",
       "          (instnorm): BatchNorm2d(128, eps=1e-05, momentum=0.1, affine=True, track_running_stats=True)\n",
       "          (lrelu): LeakyReLU(negative_slope=0.01, inplace=True)\n",
       "        )\n",
       "      )\n",
       "    )\n",
       "    (3): StackedConvLayers(\n",
       "      (blocks): Sequential(\n",
       "        (0): ConvDropoutNormNonlin(\n",
       "          (conv): Conv2d(128, 256, kernel_size=[3, 3], stride=[2, 2], padding=[1, 1])\n",
       "          (instnorm): BatchNorm2d(256, eps=1e-05, momentum=0.1, affine=True, track_running_stats=True)\n",
       "          (lrelu): LeakyReLU(negative_slope=0.01, inplace=True)\n",
       "        )\n",
       "        (1): ConvDropoutNormNonlin(\n",
       "          (conv): Conv2d(256, 256, kernel_size=[3, 3], stride=(1, 1), padding=[1, 1])\n",
       "          (instnorm): BatchNorm2d(256, eps=1e-05, momentum=0.1, affine=True, track_running_stats=True)\n",
       "          (lrelu): LeakyReLU(negative_slope=0.01, inplace=True)\n",
       "        )\n",
       "      )\n",
       "    )\n",
       "    (4): StackedConvLayers(\n",
       "      (blocks): Sequential(\n",
       "        (0): ConvDropoutNormNonlin(\n",
       "          (conv): Conv2d(256, 480, kernel_size=[3, 3], stride=[2, 2], padding=[1, 1])\n",
       "          (instnorm): BatchNorm2d(480, eps=1e-05, momentum=0.1, affine=True, track_running_stats=True)\n",
       "          (lrelu): LeakyReLU(negative_slope=0.01, inplace=True)\n",
       "        )\n",
       "        (1): ConvDropoutNormNonlin(\n",
       "          (conv): Conv2d(480, 480, kernel_size=[3, 3], stride=(1, 1), padding=[1, 1])\n",
       "          (instnorm): BatchNorm2d(480, eps=1e-05, momentum=0.1, affine=True, track_running_stats=True)\n",
       "          (lrelu): LeakyReLU(negative_slope=0.01, inplace=True)\n",
       "        )\n",
       "      )\n",
       "    )\n",
       "    (5): Sequential(\n",
       "      (0): StackedConvLayers(\n",
       "        (blocks): Sequential(\n",
       "          (0): ConvDropoutNormNonlin(\n",
       "            (conv): Conv2d(480, 480, kernel_size=[3, 3], stride=[2, 2], padding=[1, 1])\n",
       "            (instnorm): BatchNorm2d(480, eps=1e-05, momentum=0.1, affine=True, track_running_stats=True)\n",
       "            (lrelu): LeakyReLU(negative_slope=0.01, inplace=True)\n",
       "          )\n",
       "        )\n",
       "      )\n",
       "      (1): StackedConvLayers(\n",
       "        (blocks): Sequential(\n",
       "          (0): ConvDropoutNormNonlin(\n",
       "            (conv): Conv2d(480, 480, kernel_size=[3, 3], stride=(1, 1), padding=[1, 1])\n",
       "            (instnorm): BatchNorm2d(480, eps=1e-05, momentum=0.1, affine=True, track_running_stats=True)\n",
       "            (lrelu): LeakyReLU(negative_slope=0.01, inplace=True)\n",
       "          )\n",
       "        )\n",
       "      )\n",
       "    )\n",
       "  )\n",
       "  (pooling): AvgPool2d(kernel_size=3, stride=3, padding=0)\n",
       "  (fc): Linear(in_features=480, out_features=1, bias=True)\n",
       ")"
      ]
     },
     "execution_count": 58,
     "metadata": {},
     "output_type": "execute_result"
    }
   ],
   "source": [
    "net = torch.load(PROJ_ROOT/'models/brats_model.pt')\n",
    "net.pooling = nn.AvgPool2d(3)\n",
    "net = load_from_wandb(net, '3h05qyn7').to(device)\n",
    "net.eval()\n",
    "net"
   ]
  },
  {
   "cell_type": "markdown",
   "id": "ac66a180-ed79-4ae2-bb03-4c029a32af77",
   "metadata": {
    "tags": []
   },
   "source": [
    "# Threshold tuning"
   ]
  },
  {
   "cell_type": "code",
   "execution_count": 59,
   "id": "d6bd7252-6079-4929-a13e-331dfe880a38",
   "metadata": {},
   "outputs": [
    {
     "data": {
      "application/vnd.jupyter.widget-view+json": {
       "model_id": "b6998f54ad1642e98a3afc71330041fe",
       "version_major": 2,
       "version_minor": 0
      },
      "text/plain": [
       "  0%|          | 0/504 [00:00<?, ?it/s]"
      ]
     },
     "metadata": {},
     "output_type": "display_data"
    },
    {
     "data": {
      "image/png": "[encoded data removed]",
      "text/plain": [
       "<Figure size 432x288 with 1 Axes>"
      ]
     },
     "metadata": {
      "needs_background": "light"
     },
     "output_type": "display_data"
    }
   ],
   "source": [
    "data = ADNIDataset(DATASET_FPATH, dataset='val')\n",
    "data_loader = DataLoader(data, batch_size=40, shuffle=False)\n",
    "\n",
    "age_deltas = list()\n",
    "groups = list()\n",
    "for X, a, y in tqdm(data_loader):\n",
    "    a_pred = h(net(X.unsqueeze(1).to(device))).detach().cpu()\n",
    "    age_deltas.append(a_pred.numpy().mean() - a.cpu().numpy().mean())\n",
    "    groups.append(y.cpu().numpy().min())\n",
    "age_deltas = np.array(age_deltas)\n",
    "groups = np.array(groups)\n",
    "\n",
    "bins = np.arange(-15,25)\n",
    "plt.hist(age_deltas[groups == 0], bins=bins, alpha=0.5, label=f\"CN ($\\Delta ~ {age_deltas[groups == 0].mean():.1f}$)\")\n",
    "plt.hist(age_deltas[groups == 3], bins=bins, alpha=0.5, label=f\"MCI ($\\Delta ~ {age_deltas[groups == 3].mean():.1f}$)\")\n",
    "plt.hist(age_deltas[groups == 4], bins=bins, alpha=0.5, label=f\"AD ($\\Delta ~ {age_deltas[groups == 4].mean():.1f}$)\")\n",
    "plt.legend()\n",
    "plt.show()"
   ]
  },
  {
   "cell_type": "code",
   "execution_count": 60,
   "id": "3ba380b0-08b2-4d34-b0a7-baac48926d2e",
   "metadata": {},
   "outputs": [
    {
     "data": {
      "text/html": [
       "<div>\n",
       "<style scoped>\n",
       "    .dataframe tbody tr th:only-of-type {\n",
       "        vertical-align: middle;\n",
       "    }\n",
       "\n",
       "    .dataframe tbody tr th {\n",
       "        vertical-align: top;\n",
       "    }\n",
       "\n",
       "    .dataframe thead tr th {\n",
       "        text-align: left;\n",
       "    }\n",
       "\n",
       "    .dataframe thead tr:last-of-type th {\n",
       "        text-align: right;\n",
       "    }\n",
       "</style>\n",
       "<table border=\"1\" class=\"dataframe\">\n",
       "  <thead>\n",
       "    <tr>\n",
       "      <th></th>\n",
       "      <th colspan=\"2\" halign=\"left\">Delta</th>\n",
       "    </tr>\n",
       "    <tr>\n",
       "      <th></th>\n",
       "      <th>mean</th>\n",
       "      <th>std</th>\n",
       "    </tr>\n",
       "    <tr>\n",
       "      <th>Group</th>\n",
       "      <th></th>\n",
       "      <th></th>\n",
       "    </tr>\n",
       "  </thead>\n",
       "  <tbody>\n",
       "    <tr>\n",
       "      <th>AD</th>\n",
       "      <td>3.875772</td>\n",
       "      <td>5.053211</td>\n",
       "    </tr>\n",
       "    <tr>\n",
       "      <th>CN</th>\n",
       "      <td>-0.698489</td>\n",
       "      <td>4.259611</td>\n",
       "    </tr>\n",
       "    <tr>\n",
       "      <th>MCI</th>\n",
       "      <td>2.137751</td>\n",
       "      <td>5.326431</td>\n",
       "    </tr>\n",
       "  </tbody>\n",
       "</table>\n",
       "</div>"
      ],
      "text/plain": [
       "          Delta          \n",
       "           mean       std\n",
       "Group                    \n",
       "AD     3.875772  5.053211\n",
       "CN    -0.698489  4.259611\n",
       "MCI    2.137751  5.326431"
      ]
     },
     "execution_count": 60,
     "metadata": {},
     "output_type": "execute_result"
    }
   ],
   "source": [
    "df = pd.concat([pd.Series(age_deltas), pd.Series(groups)], axis=1)\n",
    "df.columns = ['Delta', 'Group']\n",
    "df['Group'] = df['Group'].replace({0:'CN', 3:'MCI', 4:'AD'})\n",
    "df.groupby('Group').agg([np.mean, np.std])"
   ]
  },
  {
   "cell_type": "markdown",
   "id": "8ef810b4-3eaa-49f1-855d-5ed7b23e7d25",
   "metadata": {
    "tags": []
   },
   "source": [
    "## AD vs. CN"
   ]
  },
  {
   "cell_type": "code",
   "execution_count": 61,
   "id": "9451e23e-2eea-470a-90fa-964b0f537452",
   "metadata": {},
   "outputs": [
    {
     "name": "stderr",
     "output_type": "stream",
     "text": [
      "/opt/conda/envs/bruno/lib/python3.7/site-packages/ipykernel_launcher.py:2: SettingWithCopyWarning: \n",
      "A value is trying to be set on a copy of a slice from a DataFrame.\n",
      "Try using .loc[row_indexer,col_indexer] = value instead\n",
      "\n",
      "See the caveats in the documentation: https://pandas.pydata.org/pandas-docs/stable/user_guide/indexing.html#returning-a-view-versus-a-copy\n",
      "  \n"
     ]
    },
    {
     "data": {
      "text/plain": [
       "[<matplotlib.lines.Line2D at 0x7f4f2f2579d0>]"
      ]
     },
     "execution_count": 61,
     "metadata": {},
     "output_type": "execute_result"
    },
    {
     "data": {
      "image/png": "[encoded data removed]",
      "text/plain": [
       "<Figure size 432x288 with 1 Axes>"
      ]
     },
     "metadata": {
      "needs_background": "light"
     },
     "output_type": "display_data"
    }
   ],
   "source": [
    "df_adcn = df[df['Group'] != 'MCI']\n",
    "df_adcn['Label'] = df_adcn['Group'] == 'AD'\n",
    "\n",
    "thresholds = np.linspace(0, 3.5, 1000)\n",
    "\n",
    "accs = list()\n",
    "for thresh in thresholds:\n",
    "    pred = df_adcn['Delta'] > thresh\n",
    "    accs.append(sum(pred == df_adcn['Label']) / len(pred))\n",
    "accs = np.array(accs)\n",
    "\n",
    "plt.plot(thresholds, accs)"
   ]
  },
  {
   "cell_type": "code",
   "execution_count": 62,
   "id": "a3dbd2ec-4403-405b-af11-c7b0cabd24b1",
   "metadata": {},
   "outputs": [
    {
     "name": "stdout",
     "output_type": "stream",
     "text": [
      "Best threshold = 2.62\n"
     ]
    }
   ],
   "source": [
    "threshold = thresholds[np.argmax(accs)]\n",
    "print(f\"Best threshold = {threshold:.2f}\")"
   ]
  },
  {
   "cell_type": "code",
   "execution_count": 51,
   "id": "6b79da82-5f0f-4331-8a34-6e0b99207321",
   "metadata": {},
   "outputs": [],
   "source": [
    "threshold = 1"
   ]
  },
  {
   "cell_type": "markdown",
   "id": "f1231572-aad7-4be1-94db-2966247acd5f",
   "metadata": {},
   "source": [
    "# Prediction"
   ]
  },
  {
   "cell_type": "code",
   "execution_count": 52,
   "id": "2f26d547-89a5-4aaf-a367-1b13b268f440",
   "metadata": {},
   "outputs": [
    {
     "data": {
      "application/vnd.jupyter.widget-view+json": {
       "model_id": "b00ea7e659b8431d8b51ec30187bfc00",
       "version_major": 2,
       "version_minor": 0
      },
      "text/plain": [
       "  0%|          | 0/770 [00:00<?, ?it/s]"
      ]
     },
     "metadata": {},
     "output_type": "display_data"
    },
    {
     "data": {
      "text/html": [
       "<div>\n",
       "<style scoped>\n",
       "    .dataframe tbody tr th:only-of-type {\n",
       "        vertical-align: middle;\n",
       "    }\n",
       "\n",
       "    .dataframe tbody tr th {\n",
       "        vertical-align: top;\n",
       "    }\n",
       "\n",
       "    .dataframe thead tr th {\n",
       "        text-align: left;\n",
       "    }\n",
       "\n",
       "    .dataframe thead tr:last-of-type th {\n",
       "        text-align: right;\n",
       "    }\n",
       "</style>\n",
       "<table border=\"1\" class=\"dataframe\">\n",
       "  <thead>\n",
       "    <tr>\n",
       "      <th></th>\n",
       "      <th colspan=\"2\" halign=\"left\">Delta</th>\n",
       "    </tr>\n",
       "    <tr>\n",
       "      <th></th>\n",
       "      <th>mean</th>\n",
       "      <th>std</th>\n",
       "    </tr>\n",
       "    <tr>\n",
       "      <th>Group</th>\n",
       "      <th></th>\n",
       "      <th></th>\n",
       "    </tr>\n",
       "  </thead>\n",
       "  <tbody>\n",
       "    <tr>\n",
       "      <th>AD</th>\n",
       "      <td>3.123738</td>\n",
       "      <td>5.835660</td>\n",
       "    </tr>\n",
       "    <tr>\n",
       "      <th>CN</th>\n",
       "      <td>-0.465476</td>\n",
       "      <td>3.550257</td>\n",
       "    </tr>\n",
       "    <tr>\n",
       "      <th>MCI</th>\n",
       "      <td>2.211618</td>\n",
       "      <td>5.599348</td>\n",
       "    </tr>\n",
       "  </tbody>\n",
       "</table>\n",
       "</div>"
      ],
      "text/plain": [
       "          Delta          \n",
       "           mean       std\n",
       "Group                    \n",
       "AD     3.123738  5.835660\n",
       "CN    -0.465476  3.550257\n",
       "MCI    2.211618  5.599348"
      ]
     },
     "execution_count": 52,
     "metadata": {},
     "output_type": "execute_result"
    }
   ],
   "source": [
    "data = ADNIDataset(DATASET_FPATH, dataset='test')\n",
    "data_loader = DataLoader(data, batch_size=40, shuffle=False)\n",
    "\n",
    "age_deltas = list()\n",
    "groups = list()\n",
    "for X, a, y in tqdm(data_loader):\n",
    "    a_pred = h(net(X.unsqueeze(1).to(device))).detach().cpu()\n",
    "    age_deltas.append(a_pred.numpy().mean() - a.cpu().numpy().mean())\n",
    "    groups.append(y.cpu().numpy().min())\n",
    "age_deltas = np.array(age_deltas)\n",
    "groups = np.array(groups)\n",
    "\n",
    "df_test = pd.concat([pd.Series(age_deltas), pd.Series(groups)], axis=1)\n",
    "df_test.columns = ['Delta', 'Group']\n",
    "df_test['Group'] = df_test['Group'].replace({0:'CN', 3:'MCI', 4:'AD'})\n",
    "df_test.groupby('Group').agg([np.mean, np.std])"
   ]
  },
  {
   "cell_type": "code",
   "execution_count": 57,
   "id": "18e1fb51-7e98-49a0-bcb1-03fe1a4f4c12",
   "metadata": {},
   "outputs": [
    {
     "name": "stdout",
     "output_type": "stream",
     "text": [
      "Test accuracy = 79.01%\n"
     ]
    }
   ],
   "source": [
    "df_adcn = df[df['Group'] != 'MCI']\n",
    "labels = (df_adcn['Group'] == 'AD')\n",
    "\n",
    "pred = df_adcn['Delta'] > threshold_train\n",
    "acc = sum(pred == labels) / len(pred)\n",
    "\n",
    "print(f\"Test accuracy = {100*acc:.2f}%\")"
   ]
  },
  {
   "cell_type": "code",
   "execution_count": 56,
   "id": "7cfd30b5-ff22-40b4-a9af-6f4b97eafbf3",
   "metadata": {},
   "outputs": [],
   "source": [
    "threshold_train = 2.62"
   ]
  },
  {
   "cell_type": "markdown",
   "id": "da9ca67d-0e67-473b-848f-2a59c9bdc0a1",
   "metadata": {
    "tags": [],
    "toc-hr-collapsed": true
   },
   "source": [
    "# Cohen's D"
   ]
  },
  {
   "cell_type": "code",
   "execution_count": 113,
   "id": "38e1d9d6-13ef-4a87-b85d-33ea9319070e",
   "metadata": {},
   "outputs": [
    {
     "data": {
      "text/plain": [
       "0.7680749020956529"
      ]
     },
     "execution_count": 113,
     "metadata": {},
     "output_type": "execute_result"
    }
   ],
   "source": [
    "#correct if the population S.D. is expected to be equal for the two groups.\n",
    "def cohen_d(x,y):\n",
    "    nx = len(x)\n",
    "    ny = len(y)\n",
    "    dof = nx + ny - 2\n",
    "    return (np.mean(x) - np.mean(y)) / np.sqrt(((nx-1)*np.std(x, ddof=1) ** 2 + (ny-1)*np.std(y, ddof=1) ** 2) / dof)\n",
    "\n",
    "cohen_d(age_deltas[groups == 4], age_deltas[groups == 0])"
   ]
  },
  {
   "cell_type": "code",
   "execution_count": 114,
   "id": "d40031e9-e2a2-4e5a-954e-b16db3a91bc2",
   "metadata": {},
   "outputs": [
    {
     "data": {
      "text/plain": [
       "0.5414401416499476"
      ]
     },
     "execution_count": 114,
     "metadata": {},
     "output_type": "execute_result"
    }
   ],
   "source": [
    "cohen_d(age_deltas[groups == 3], age_deltas[groups == 0])"
   ]
  },
  {
   "cell_type": "code",
   "execution_count": 115,
   "id": "b43cde2d-ef6c-4526-b550-e82f37f8b837",
   "metadata": {},
   "outputs": [
    {
     "data": {
      "text/plain": [
       "0.16079192157911917"
      ]
     },
     "execution_count": 115,
     "metadata": {},
     "output_type": "execute_result"
    }
   ],
   "source": [
    "cohen_d(age_deltas[groups == 4], age_deltas[groups == 3])"
   ]
  }
 ],
 "metadata": {
  "environment": {
   "name": "tf2-gpu.2-3.m65",
   "type": "gcloud",
   "uri": "gcr.io/deeplearning-platform-release/tf2-gpu.2-3:m65"
  },
  "kernelspec": {
   "display_name": "Python [conda env:bruno]",
   "language": "python",
   "name": "conda-env-bruno-py"
  },
  "language_info": {
   "codemirror_mode": {
    "name": "ipython",
    "version": 3
   },
   "file_extension": ".py",
   "mimetype": "text/x-python",
   "name": "python",
   "nbconvert_exporter": "python",
   "pygments_lexer": "ipython3",
   "version": "3.7.10"
  }
 },
 "nbformat": 4,
 "nbformat_minor": 5
}
