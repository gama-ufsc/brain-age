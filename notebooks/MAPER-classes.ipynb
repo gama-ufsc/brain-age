{
 "cells": [
  {
   "cell_type": "code",
   "execution_count": 7,
   "id": "f992adcf-ca7b-4f0c-865f-49627c935ae0",
   "metadata": {},
   "outputs": [],
   "source": [
    "from pathlib import Path\n",
    "\n",
    "import nibabel as nib\n",
    "import numpy as np\n",
    "import pandas as pd"
   ]
  },
  {
   "cell_type": "code",
   "execution_count": 5,
   "id": "0a5f7497-b14e-44b4-9674-00342e2c1e82",
   "metadata": {},
   "outputs": [
    {
     "data": {
      "text/plain": [
       "285"
      ]
     },
     "execution_count": 5,
     "metadata": {},
     "output_type": "execute_result"
    }
   ],
   "source": [
    "maper_dir = Path('/home/jupyter/data/ADNI/MAPER/prep/y')\n",
    "\n",
    "maper_fpaths = list(maper_dir.glob('*.nii.gz'))\n",
    "len(maper_fpaths)"
   ]
  },
  {
   "cell_type": "code",
   "execution_count": 8,
   "id": "69acb876-51cd-4bcf-b1e5-fbb5e3f1dbdd",
   "metadata": {},
   "outputs": [],
   "source": [
    "m_ss = list()\n",
    "for maper_fpath in maper_fpaths:\n",
    "    m_img = nib.load(maper_fpath).get_data()\n",
    "    labels_freqs = np.unique(m_img, return_counts=True)\n",
    "    m_ss.append(pd.Series(labels_freqs[1], labels_freqs[0]))"
   ]
  },
  {
   "cell_type": "code",
   "execution_count": 19,
   "id": "b27e2079-a9da-4130-b31e-43e3c926e4e0",
   "metadata": {},
   "outputs": [
    {
     "data": {
      "text/plain": [
       "0.0        2175621650\n",
       "256.0          660203\n",
       "512.0          606467\n",
       "768.0          405256\n",
       "1024.0         426092\n",
       "              ...    \n",
       "20224.0        101560\n",
       "20480.0        294667\n",
       "20736.0        200593\n",
       "20992.0       1462921\n",
       "21248.0       1431920\n",
       "Length: 84, dtype: int64"
      ]
     },
     "execution_count": 19,
     "metadata": {},
     "output_type": "execute_result"
    }
   ],
   "source": [
    "ms = m_ss[0]\n",
    "\n",
    "for m_s in m_ss[1:]:\n",
    "    ms += m_s\n",
    "ms"
   ]
  },
  {
   "cell_type": "code",
   "execution_count": 29,
   "id": "f67b5d98-f78d-4ef4-9aa8-b68c86843e6f",
   "metadata": {},
   "outputs": [
    {
     "data": {
      "text/plain": [
       "0     0.855036\n",
       "18    0.008112\n",
       "17    0.008076\n",
       "59    0.005849\n",
       "58    0.005718\n",
       "        ...   \n",
       "79    0.000040\n",
       "36    0.000038\n",
       "74    0.000035\n",
       "75    0.000035\n",
       "37    0.000033\n",
       "Name: 0, Length: 84, dtype: float64"
      ]
     },
     "execution_count": 29,
     "metadata": {},
     "output_type": "execute_result"
    }
   ],
   "source": [
    "(ms.sort_index().reset_index()[0].sort_values(ascending=False) / len(m_ss)) / (240*240*155)"
   ]
  }
 ],
 "metadata": {
  "environment": {
   "name": "tf2-gpu.2-3.m65",
   "type": "gcloud",
   "uri": "gcr.io/deeplearning-platform-release/tf2-gpu.2-3:m65"
  },
  "kernelspec": {
   "display_name": "Python [conda env:bruno]",
   "language": "python",
   "name": "conda-env-bruno-py"
  },
  "language_info": {
   "codemirror_mode": {
    "name": "ipython",
    "version": 3
   },
   "file_extension": ".py",
   "mimetype": "text/x-python",
   "name": "python",
   "nbconvert_exporter": "python",
   "pygments_lexer": "ipython3",
   "version": "3.7.10"
  }
 },
 "nbformat": 4,
 "nbformat_minor": 5
}
