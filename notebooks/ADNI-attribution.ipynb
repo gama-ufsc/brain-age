{
 "cells": [
  {
   "cell_type": "code",
   "execution_count": 1,
   "id": "48a5d958-d56b-4cfa-b608-2c06bbea35b8",
   "metadata": {},
   "outputs": [],
   "source": [
    "import sys\n",
    "import pickle\n",
    "import matplotlib.pyplot as plt\n",
    "\n",
    "from pathlib import Path\n",
    "\n",
    "from dotenv import find_dotenv, load_dotenv\n",
    "# find .env automagically by walking up directories until it's found, then\n",
    "# load up the .env entries as environment variables\n",
    "load_dotenv(find_dotenv())\n",
    "\n",
    "PROJ_ROOT = Path('/home/jupyter/gama/bruno')\n",
    "\n",
    "from tqdm.notebook import tqdm\n",
    "\n",
    "import numpy as np"
   ]
  },
  {
   "cell_type": "code",
   "execution_count": 2,
   "id": "ec88ed86-1b63-47c9-8ccd-601eacb825da",
   "metadata": {},
   "outputs": [],
   "source": [
    "import wandb\n",
    "\n",
    "import torch\n",
    "from torchvision import models\n",
    "from torch import nn\n",
    "\n",
    "device = torch.device(\"cuda:0\" if torch.cuda.is_available() else \"cpu\")\n",
    "\n",
    "def load_from_wandb(net: nn.Module, run_id: str,\n",
    "                    project='ADNI-brain-age', model_fname='model_last'):\n",
    "    best_model_file = wandb.restore(\n",
    "        model_fname+'.pth',\n",
    "        run_path=f\"gama/{project}/{run_id}\",\n",
    "        replace=True\n",
    "    )\n",
    "    net.load_state_dict(torch.load(best_model_file.name))\n",
    "\n",
    "    return net\n",
    "\n",
    "class BraTSnnUNet(nn.Module):\n",
    "    def __init__(self, network, freeze=False):\n",
    "        \"\"\"`network` must be a nnU-Net `Generic_UNet`.\n",
    "        \"\"\"\n",
    "        super().__init__()\n",
    "\n",
    "        self.brats_encoder = network.conv_blocks_context\n",
    "\n",
    "        self.pooling = nn.AvgPool2d(5)\n",
    "\n",
    "        self.fc = nn.Linear(480,1)\n",
    "\n",
    "        if freeze:\n",
    "            self.freeze()\n",
    "\n",
    "    def forward(self, x):\n",
    "        for d in range(len(self.brats_encoder)):\n",
    "            x = self.brats_encoder[d](x)\n",
    "\n",
    "        x = self.pooling(x)\n",
    "\n",
    "        y = self.fc(x.squeeze()).squeeze()\n",
    "\n",
    "        return y\n",
    "\n",
    "    def freeze(self):\n",
    "        for param in self.brats_encoder.parameters():\n",
    "            param.requires_grad = False\n",
    "\n",
    "    def unfreeze(self):\n",
    "        for param in self.model.brats_encoder.parameters():\n",
    "            param.requires_grad = True"
   ]
  },
  {
   "cell_type": "code",
   "execution_count": 3,
   "id": "8883748b-9dc0-4bf8-bf42-1031754acc3e",
   "metadata": {},
   "outputs": [
    {
     "data": {
      "text/plain": [
       "561.0"
      ]
     },
     "execution_count": 3,
     "metadata": {},
     "output_type": "execute_result"
    }
   ],
   "source": [
    "import h5py\n",
    "\n",
    "from torch.utils.data import Dataset\n",
    "from torchvision import transforms\n",
    "\n",
    "\n",
    "class ADNIDatasetForBraTSModel(Dataset):\n",
    "    def __init__(\n",
    "        self,\n",
    "        hdf5_fpath,\n",
    "        transform=transforms.ToTensor(),\n",
    "        dataset='train',\n",
    "    ) -> None:\n",
    "        super().__init__()\n",
    "\n",
    "        hdf5_fpath = Path(hdf5_fpath)\n",
    "        assert hdf5_fpath.exists()\n",
    "\n",
    "        self._fpath = hdf5_fpath\n",
    "        self.dataset = dataset\n",
    "\n",
    "        self.transform = transform\n",
    "\n",
    "    def __len__(self):\n",
    "        with h5py.File(self._fpath, 'r') as h:\n",
    "            l = h[self.dataset]['y'].shape[0]\n",
    "\n",
    "        return l\n",
    "\n",
    "    def __getitem__(self, index: int):\n",
    "        with h5py.File(self._fpath, 'r') as h:\n",
    "            img = h[self.dataset]['X'][index]\n",
    "            label = h[self.dataset]['y'][index]\n",
    "\n",
    "        # transform\n",
    "        if self.transform:\n",
    "            img = self.transform(img)\n",
    "\n",
    "        return img, label\n",
    "\n",
    "val_data = ADNIDatasetForBraTSModel('/home/jupyter/data/ADNI/brats_2mm_preprocessed/ADNI_slices_fix_2mm_split.hdf5', dataset='val')\n",
    "len(val_data) / 40"
   ]
  },
  {
   "cell_type": "code",
   "execution_count": 4,
   "id": "3080f8fd-6d8e-41f1-a5cf-9cd301abad1a",
   "metadata": {
    "collapsed": true,
    "jupyter": {
     "outputs_hidden": true
    },
    "tags": []
   },
   "outputs": [
    {
     "name": "stdout",
     "output_type": "stream",
     "text": [
      "\n",
      "\n",
      "Please cite the following paper when using nnUNet:\n",
      "\n",
      "Isensee, F., Jaeger, P.F., Kohl, S.A.A. et al. \"nnU-Net: a self-configuring method for deep learning-based biomedical image segmentation.\" Nat Methods (2020). https://doi.org/10.1038/s41592-020-01008-z\n",
      "\n",
      "\n",
      "If you have questions or suggestions, feel free to open an issue at https://github.com/MIC-DKFZ/nnUNet\n",
      "\n"
     ]
    },
    {
     "data": {
      "text/plain": [
       "BraTSnnUNet(\n",
       "  (brats_encoder): ModuleList(\n",
       "    (0): StackedConvLayers(\n",
       "      (blocks): Sequential(\n",
       "        (0): ConvDropoutNormNonlin(\n",
       "          (conv): Conv2d(1, 32, kernel_size=[3, 3], stride=(1, 1), padding=[1, 1])\n",
       "          (instnorm): BatchNorm2d(32, eps=1e-05, momentum=0.1, affine=True, track_running_stats=True)\n",
       "          (lrelu): LeakyReLU(negative_slope=0.01, inplace=True)\n",
       "        )\n",
       "        (1): ConvDropoutNormNonlin(\n",
       "          (conv): Conv2d(32, 32, kernel_size=[3, 3], stride=(1, 1), padding=[1, 1])\n",
       "          (instnorm): BatchNorm2d(32, eps=1e-05, momentum=0.1, affine=True, track_running_stats=True)\n",
       "          (lrelu): LeakyReLU(negative_slope=0.01, inplace=True)\n",
       "        )\n",
       "      )\n",
       "    )\n",
       "    (1): StackedConvLayers(\n",
       "      (blocks): Sequential(\n",
       "        (0): ConvDropoutNormNonlin(\n",
       "          (conv): Conv2d(32, 64, kernel_size=[3, 3], stride=[2, 2], padding=[1, 1])\n",
       "          (instnorm): BatchNorm2d(64, eps=1e-05, momentum=0.1, affine=True, track_running_stats=True)\n",
       "          (lrelu): LeakyReLU(negative_slope=0.01, inplace=True)\n",
       "        )\n",
       "        (1): ConvDropoutNormNonlin(\n",
       "          (conv): Conv2d(64, 64, kernel_size=[3, 3], stride=(1, 1), padding=[1, 1])\n",
       "          (instnorm): BatchNorm2d(64, eps=1e-05, momentum=0.1, affine=True, track_running_stats=True)\n",
       "          (lrelu): LeakyReLU(negative_slope=0.01, inplace=True)\n",
       "        )\n",
       "      )\n",
       "    )\n",
       "    (2): StackedConvLayers(\n",
       "      (blocks): Sequential(\n",
       "        (0): ConvDropoutNormNonlin(\n",
       "          (conv): Conv2d(64, 128, kernel_size=[3, 3], stride=[2, 2], padding=[1, 1])\n",
       "          (instnorm): BatchNorm2d(128, eps=1e-05, momentum=0.1, affine=True, track_running_stats=True)\n",
       "          (lrelu): LeakyReLU(negative_slope=0.01, inplace=True)\n",
       "        )\n",
       "        (1): ConvDropoutNormNonlin(\n",
       "          (conv): Conv2d(128, 128, kernel_size=[3, 3], stride=(1, 1), padding=[1, 1])\n",
       "          (instnorm): BatchNorm2d(128, eps=1e-05, momentum=0.1, affine=True, track_running_stats=True)\n",
       "          (lrelu): LeakyReLU(negative_slope=0.01, inplace=True)\n",
       "        )\n",
       "      )\n",
       "    )\n",
       "    (3): StackedConvLayers(\n",
       "      (blocks): Sequential(\n",
       "        (0): ConvDropoutNormNonlin(\n",
       "          (conv): Conv2d(128, 256, kernel_size=[3, 3], stride=[2, 2], padding=[1, 1])\n",
       "          (instnorm): BatchNorm2d(256, eps=1e-05, momentum=0.1, affine=True, track_running_stats=True)\n",
       "          (lrelu): LeakyReLU(negative_slope=0.01, inplace=True)\n",
       "        )\n",
       "        (1): ConvDropoutNormNonlin(\n",
       "          (conv): Conv2d(256, 256, kernel_size=[3, 3], stride=(1, 1), padding=[1, 1])\n",
       "          (instnorm): BatchNorm2d(256, eps=1e-05, momentum=0.1, affine=True, track_running_stats=True)\n",
       "          (lrelu): LeakyReLU(negative_slope=0.01, inplace=True)\n",
       "        )\n",
       "      )\n",
       "    )\n",
       "    (4): StackedConvLayers(\n",
       "      (blocks): Sequential(\n",
       "        (0): ConvDropoutNormNonlin(\n",
       "          (conv): Conv2d(256, 480, kernel_size=[3, 3], stride=[2, 2], padding=[1, 1])\n",
       "          (instnorm): BatchNorm2d(480, eps=1e-05, momentum=0.1, affine=True, track_running_stats=True)\n",
       "          (lrelu): LeakyReLU(negative_slope=0.01, inplace=True)\n",
       "        )\n",
       "        (1): ConvDropoutNormNonlin(\n",
       "          (conv): Conv2d(480, 480, kernel_size=[3, 3], stride=(1, 1), padding=[1, 1])\n",
       "          (instnorm): BatchNorm2d(480, eps=1e-05, momentum=0.1, affine=True, track_running_stats=True)\n",
       "          (lrelu): LeakyReLU(negative_slope=0.01, inplace=True)\n",
       "        )\n",
       "      )\n",
       "    )\n",
       "    (5): Sequential(\n",
       "      (0): StackedConvLayers(\n",
       "        (blocks): Sequential(\n",
       "          (0): ConvDropoutNormNonlin(\n",
       "            (conv): Conv2d(480, 480, kernel_size=[3, 3], stride=[2, 2], padding=[1, 1])\n",
       "            (instnorm): BatchNorm2d(480, eps=1e-05, momentum=0.1, affine=True, track_running_stats=True)\n",
       "            (lrelu): LeakyReLU(negative_slope=0.01, inplace=True)\n",
       "          )\n",
       "        )\n",
       "      )\n",
       "      (1): StackedConvLayers(\n",
       "        (blocks): Sequential(\n",
       "          (0): ConvDropoutNormNonlin(\n",
       "            (conv): Conv2d(480, 480, kernel_size=[3, 3], stride=(1, 1), padding=[1, 1])\n",
       "            (instnorm): BatchNorm2d(480, eps=1e-05, momentum=0.1, affine=True, track_running_stats=True)\n",
       "            (lrelu): LeakyReLU(negative_slope=0.01, inplace=True)\n",
       "          )\n",
       "        )\n",
       "      )\n",
       "    )\n",
       "  )\n",
       "  (pooling): AvgPool2d(kernel_size=3, stride=3, padding=0)\n",
       "  (fc): Linear(in_features=480, out_features=1, bias=True)\n",
       ")"
      ]
     },
     "execution_count": 4,
     "metadata": {},
     "output_type": "execute_result"
    }
   ],
   "source": [
    "net = torch.load(PROJ_ROOT/'models/brats_model.pt')\n",
    "net.pooling = nn.AvgPool2d(3)\n",
    "net = load_from_wandb(net, '1tz3p1dw').to(device)  # pre-trained, linear lr decay\n",
    "net.eval()\n",
    "net"
   ]
  },
  {
   "cell_type": "code",
   "execution_count": 5,
   "id": "2e941243-fb34-4826-96ca-b8ca8e19d6d6",
   "metadata": {},
   "outputs": [],
   "source": [
    "from torch.utils.data import DataLoader\n",
    "\n",
    "val_dataloader = DataLoader(val_data, batch_size=40, shuffle=False)"
   ]
  },
  {
   "cell_type": "code",
   "execution_count": 8,
   "id": "11f565d5-c61c-4449-bed7-17c35afd5796",
   "metadata": {
    "tags": []
   },
   "outputs": [
    {
     "data": {
      "text/plain": [
       "torch.Size([40, 1, 96, 96])"
      ]
     },
     "execution_count": 8,
     "metadata": {},
     "output_type": "execute_result"
    }
   ],
   "source": [
    "X, y = next(iter(val_dataloader))\n",
    "\n",
    "X.shape"
   ]
  },
  {
   "cell_type": "code",
   "execution_count": 17,
   "id": "a0d32fb6-31ec-45d3-97f8-6344db5a82cc",
   "metadata": {},
   "outputs": [
    {
     "data": {
      "image/png": "[encoded data removed]",
      "text/plain": [
       "<Figure size 432x288 with 1 Axes>"
      ]
     },
     "metadata": {
      "needs_background": "light"
     },
     "output_type": "display_data"
    }
   ],
   "source": [
    "plt.imshow(X[20].squeeze().numpy(), cmap='gray')\n",
    "plt.axis('off')\n",
    "plt.show()"
   ]
  },
  {
   "cell_type": "code",
   "execution_count": 19,
   "id": "eecaebfe-6ae1-4d9f-854b-6a709b6b22d3",
   "metadata": {},
   "outputs": [
    {
     "data": {
      "text/plain": [
       "torch.Size([40])"
      ]
     },
     "execution_count": 19,
     "metadata": {},
     "output_type": "execute_result"
    }
   ],
   "source": [
    "y_pred = net(X.to(device))\n",
    "y_pred.shape"
   ]
  },
  {
   "cell_type": "code",
   "execution_count": null,
   "id": "0b43a190-4bed-468b-b0b0-4d61555e6f91",
   "metadata": {},
   "outputs": [],
   "source": [
    "Y_pred = list()\n",
    "Y = list()\n",
    "for X, y in tqdm(val_dataloader):\n",
    "    X, y = X.to(device), y.to(device)\n",
    "\n",
    "    Y_pred.append(net(X).cpu().detach().numpy())\n",
    "    Y.append(y.cpu().detach().numpy())\n",
    "\n",
    "Y = np.stack(Y)\n",
    "Y_pred = np.stack(Y_pred)"
   ]
  }
 ],
 "metadata": {
  "environment": {
   "name": "tf2-gpu.2-3.m65",
   "type": "gcloud",
   "uri": "gcr.io/deeplearning-platform-release/tf2-gpu.2-3:m65"
  },
  "kernelspec": {
   "display_name": "Python [conda env:bruno]",
   "language": "python",
   "name": "conda-env-bruno-py"
  },
  "language_info": {
   "codemirror_mode": {
    "name": "ipython",
    "version": 3
   },
   "file_extension": ".py",
   "mimetype": "text/x-python",
   "name": "python",
   "nbconvert_exporter": "python",
   "pygments_lexer": "ipython3",
   "version": "3.7.10"
  }
 },
 "nbformat": 4,
 "nbformat_minor": 5
}
