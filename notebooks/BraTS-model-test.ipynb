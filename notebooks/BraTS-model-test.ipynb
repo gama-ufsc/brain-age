{
 "cells": [
  {
   "cell_type": "code",
   "execution_count": 1,
   "metadata": {},
   "outputs": [
    {
     "name": "stdout",
     "output_type": "stream",
     "text": [
      "\n",
      "\n",
      "Please cite the following paper when using nnUNet:\n",
      "\n",
      "Isensee, F., Jaeger, P.F., Kohl, S.A.A. et al. \"nnU-Net: a self-configuring method for deep learning-based biomedical image segmentation.\" Nat Methods (2020). https://doi.org/10.1038/s41592-020-01008-z\n",
      "\n",
      "\n",
      "If you have questions or suggestions, feel free to open an issue at https://github.com/MIC-DKFZ/nnUNet\n",
      "\n",
      "nnUNet_raw_data_base is not defined and nnU-Net can only be used on data for which preprocessed files are already present on your system. nnU-Net cannot be used for experiment planning and preprocessing like this. If this is not intended, please read documentation/setting_up_paths.md for information on how to set this up properly.\n",
      "nnUNet_preprocessed is not defined and nnU-Net can not be used for preprocessing or training. If this is not intended, please read documentation/setting_up_paths.md for information on how to set this up.\n",
      "RESULTS_FOLDER is not defined and nnU-Net cannot be used for training or inference. If this is not intended behavior, please read documentation/setting_up_paths.md for information on how to set this up.\n"
     ]
    }
   ],
   "source": [
    "from pathlib import Path\n",
    "\n",
    "import h5py\n",
    "\n",
    "import torch\n",
    "from torch import nn\n",
    "from torch.utils.data import Dataset\n",
    "from torchvision import transforms\n",
    "\n",
    "from nnunet.training.model_restore import restore_model\n",
    "\n",
    "from dotenv import find_dotenv, load_dotenv\n",
    "# find .env automagically by walking up directories until it's found, then\n",
    "# load up the .env entries as environment variables\n",
    "load_dotenv(find_dotenv())\n",
    "\n",
    "PROJ_ROOT = Path('/home/bruno-pacheco/brats-generalization')"
   ]
  },
  {
   "cell_type": "code",
   "execution_count": 3,
   "metadata": {},
   "outputs": [
    {
     "name": "stdout",
     "output_type": "stream",
     "text": [
      "220420-15:45:41,161 nipype.utils WARNING:\n",
      "\t A newer version (1.7.1) of nipy/nipype is available. You are using 1.6.0\n",
      "2022-04-20 15:45:41.176793: self.max_num_epochs: 50\n",
      "2022-04-20 15:45:41.177026: loading checkpoint /home/bruno-pacheco/brats-generalization/models/nnUNet/2d/Task109_BraTS2020_T1only/nnUNetTrainerV2BraTSRegions_BN_Our__nnUNetPlansv2.1/all/model_final_checkpoint.model train= False\n"
     ]
    },
    {
     "data": {
      "text/plain": [
       "False"
      ]
     },
     "execution_count": 3,
     "metadata": {},
     "output_type": "execute_result"
    }
   ],
   "source": [
    "model_dir = PROJ_ROOT/'models/nnUNet/2d/Task109_BraTS2020_T1only/nnUNetTrainerV2BraTSRegions_BN_Our__nnUNetPlansv2.1/all'\n",
    "\n",
    "# contains info about the trainer (aux functions)\n",
    "model_pkl = model_dir/'model_final_checkpoint.model.pkl'\n",
    "\n",
    "# model data\n",
    "model_checkpoint = model_dir/'model_final_checkpoint.model'\n",
    "\n",
    "trainer = restore_model(model_pkl, checkpoint=model_checkpoint, train=False)\n",
    "\n",
    "trainer.deterministic"
   ]
  },
  {
   "cell_type": "code",
   "execution_count": 5,
   "metadata": {},
   "outputs": [
    {
     "data": {
      "text/plain": [
       "BraTSnnUNet(\n",
       "  (brats_encoder): ModuleList(\n",
       "    (0): StackedConvLayers(\n",
       "      (blocks): Sequential(\n",
       "        (0): ConvDropoutNormNonlin(\n",
       "          (conv): Conv2d(1, 32, kernel_size=[3, 3], stride=(1, 1), padding=[1, 1])\n",
       "          (instnorm): BatchNorm2d(32, eps=1e-05, momentum=0.1, affine=True, track_running_stats=True)\n",
       "          (lrelu): LeakyReLU(negative_slope=0.01, inplace=True)\n",
       "        )\n",
       "        (1): ConvDropoutNormNonlin(\n",
       "          (conv): Conv2d(32, 32, kernel_size=[3, 3], stride=(1, 1), padding=[1, 1])\n",
       "          (instnorm): BatchNorm2d(32, eps=1e-05, momentum=0.1, affine=True, track_running_stats=True)\n",
       "          (lrelu): LeakyReLU(negative_slope=0.01, inplace=True)\n",
       "        )\n",
       "      )\n",
       "    )\n",
       "    (1): StackedConvLayers(\n",
       "      (blocks): Sequential(\n",
       "        (0): ConvDropoutNormNonlin(\n",
       "          (conv): Conv2d(32, 64, kernel_size=[3, 3], stride=[2, 2], padding=[1, 1])\n",
       "          (instnorm): BatchNorm2d(64, eps=1e-05, momentum=0.1, affine=True, track_running_stats=True)\n",
       "          (lrelu): LeakyReLU(negative_slope=0.01, inplace=True)\n",
       "        )\n",
       "        (1): ConvDropoutNormNonlin(\n",
       "          (conv): Conv2d(64, 64, kernel_size=[3, 3], stride=(1, 1), padding=[1, 1])\n",
       "          (instnorm): BatchNorm2d(64, eps=1e-05, momentum=0.1, affine=True, track_running_stats=True)\n",
       "          (lrelu): LeakyReLU(negative_slope=0.01, inplace=True)\n",
       "        )\n",
       "      )\n",
       "    )\n",
       "    (2): StackedConvLayers(\n",
       "      (blocks): Sequential(\n",
       "        (0): ConvDropoutNormNonlin(\n",
       "          (conv): Conv2d(64, 128, kernel_size=[3, 3], stride=[2, 2], padding=[1, 1])\n",
       "          (instnorm): BatchNorm2d(128, eps=1e-05, momentum=0.1, affine=True, track_running_stats=True)\n",
       "          (lrelu): LeakyReLU(negative_slope=0.01, inplace=True)\n",
       "        )\n",
       "        (1): ConvDropoutNormNonlin(\n",
       "          (conv): Conv2d(128, 128, kernel_size=[3, 3], stride=(1, 1), padding=[1, 1])\n",
       "          (instnorm): BatchNorm2d(128, eps=1e-05, momentum=0.1, affine=True, track_running_stats=True)\n",
       "          (lrelu): LeakyReLU(negative_slope=0.01, inplace=True)\n",
       "        )\n",
       "      )\n",
       "    )\n",
       "    (3): StackedConvLayers(\n",
       "      (blocks): Sequential(\n",
       "        (0): ConvDropoutNormNonlin(\n",
       "          (conv): Conv2d(128, 256, kernel_size=[3, 3], stride=[2, 2], padding=[1, 1])\n",
       "          (instnorm): BatchNorm2d(256, eps=1e-05, momentum=0.1, affine=True, track_running_stats=True)\n",
       "          (lrelu): LeakyReLU(negative_slope=0.01, inplace=True)\n",
       "        )\n",
       "        (1): ConvDropoutNormNonlin(\n",
       "          (conv): Conv2d(256, 256, kernel_size=[3, 3], stride=(1, 1), padding=[1, 1])\n",
       "          (instnorm): BatchNorm2d(256, eps=1e-05, momentum=0.1, affine=True, track_running_stats=True)\n",
       "          (lrelu): LeakyReLU(negative_slope=0.01, inplace=True)\n",
       "        )\n",
       "      )\n",
       "    )\n",
       "    (4): StackedConvLayers(\n",
       "      (blocks): Sequential(\n",
       "        (0): ConvDropoutNormNonlin(\n",
       "          (conv): Conv2d(256, 480, kernel_size=[3, 3], stride=[2, 2], padding=[1, 1])\n",
       "          (instnorm): BatchNorm2d(480, eps=1e-05, momentum=0.1, affine=True, track_running_stats=True)\n",
       "          (lrelu): LeakyReLU(negative_slope=0.01, inplace=True)\n",
       "        )\n",
       "        (1): ConvDropoutNormNonlin(\n",
       "          (conv): Conv2d(480, 480, kernel_size=[3, 3], stride=(1, 1), padding=[1, 1])\n",
       "          (instnorm): BatchNorm2d(480, eps=1e-05, momentum=0.1, affine=True, track_running_stats=True)\n",
       "          (lrelu): LeakyReLU(negative_slope=0.01, inplace=True)\n",
       "        )\n",
       "      )\n",
       "    )\n",
       "    (5): Sequential(\n",
       "      (0): StackedConvLayers(\n",
       "        (blocks): Sequential(\n",
       "          (0): ConvDropoutNormNonlin(\n",
       "            (conv): Conv2d(480, 480, kernel_size=[3, 3], stride=[2, 2], padding=[1, 1])\n",
       "            (instnorm): BatchNorm2d(480, eps=1e-05, momentum=0.1, affine=True, track_running_stats=True)\n",
       "            (lrelu): LeakyReLU(negative_slope=0.01, inplace=True)\n",
       "          )\n",
       "        )\n",
       "      )\n",
       "      (1): StackedConvLayers(\n",
       "        (blocks): Sequential(\n",
       "          (0): ConvDropoutNormNonlin(\n",
       "            (conv): Conv2d(480, 480, kernel_size=[3, 3], stride=(1, 1), padding=[1, 1])\n",
       "            (instnorm): BatchNorm2d(480, eps=1e-05, momentum=0.1, affine=True, track_running_stats=True)\n",
       "            (lrelu): LeakyReLU(negative_slope=0.01, inplace=True)\n",
       "          )\n",
       "        )\n",
       "      )\n",
       "    )\n",
       "  )\n",
       "  (pooling): AvgPool2d(kernel_size=5, stride=5, padding=0)\n",
       "  (fc): Linear(in_features=480, out_features=1, bias=True)\n",
       ")"
      ]
     },
     "execution_count": 5,
     "metadata": {},
     "output_type": "execute_result"
    }
   ],
   "source": [
    "class BraTSnnUNet(nn.Module):\n",
    "    def __init__(self, network, freeze=False):\n",
    "        \"\"\"`network` must be a nnU-Net `Generic_UNet`.\n",
    "        \"\"\"\n",
    "        super().__init__()\n",
    "\n",
    "        self.brats_encoder = network.conv_blocks_context\n",
    "\n",
    "        self.pooling = nn.AvgPool2d(5)\n",
    "\n",
    "        self.fc = nn.Linear(480,1)\n",
    "\n",
    "        if freeze:\n",
    "            self.freeze()\n",
    "\n",
    "    def forward(self, x):\n",
    "        for d in range(len(self.brats_encoder)):\n",
    "            x = self.brats_encoder[d](x)\n",
    "\n",
    "        x = self.pooling(x)\n",
    "\n",
    "        y = self.fc(x.squeeze()).squeeze()\n",
    "\n",
    "        return y\n",
    "\n",
    "    def freeze(self):\n",
    "        for param in self.model.brats_encoder.parameters():\n",
    "            param.requires_grad = False\n",
    "\n",
    "    def unfreeze(self):\n",
    "        for param in self.model.brats_encoder.parameters():\n",
    "            param.requires_grad = True\n",
    "\n",
    "model = BraTSnnUNet(trainer.network)\n",
    "model.cpu()"
   ]
  },
  {
   "cell_type": "code",
   "execution_count": 18,
   "metadata": {},
   "outputs": [
    {
     "data": {
      "text/plain": [
       "PosixPath('/home/bruno-pacheco/brats-generalization')"
      ]
     },
     "execution_count": 18,
     "metadata": {},
     "output_type": "execute_result"
    }
   ],
   "source": [
    "PROJ_ROOT"
   ]
  },
  {
   "cell_type": "code",
   "execution_count": 7,
   "metadata": {},
   "outputs": [],
   "source": [
    "torch.save(model, PROJ_ROOT/'models/brats_model.pt')"
   ]
  },
  {
   "cell_type": "code",
   "execution_count": 2,
   "metadata": {
    "scrolled": true
   },
   "outputs": [
    {
     "data": {
      "text/plain": [
       "<__main__.ADNIDatasetForBraTSModel at 0x7f1cc47cd220>"
      ]
     },
     "execution_count": 2,
     "metadata": {},
     "output_type": "execute_result"
    }
   ],
   "source": [
    "class ADNIDatasetForBraTSModel(Dataset):\n",
    "    def __init__(\n",
    "        self,\n",
    "        hdf5_fpath,\n",
    "        transform=transforms.ToTensor(),\n",
    "        dataset='train',\n",
    "    ) -> None:\n",
    "        super().__init__()\n",
    "\n",
    "        hdf5_fpath = Path(hdf5_fpath)\n",
    "        assert hdf5_fpath.exists()\n",
    "\n",
    "        self._fpath = hdf5_fpath\n",
    "        self.dataset = dataset\n",
    "\n",
    "        self.transform = transform\n",
    "\n",
    "    def __len__(self):\n",
    "        with h5py.File(self._fpath, 'r') as h:\n",
    "            l = h[self.dataset]['y'].shape[0]\n",
    "\n",
    "        return l\n",
    "\n",
    "    def __getitem__(self, index: int):\n",
    "        with h5py.File(self._fpath, 'r') as h:\n",
    "            img = h[self.dataset]['X'][index]\n",
    "            label = h[self.dataset]['y'][index]\n",
    "\n",
    "#         label = torch.Tensor([label])\n",
    "#         label = label.view(label.shape[0], 1)\n",
    "\n",
    "        # transform\n",
    "        if self.transform:\n",
    "            img = self.transform(img)\n",
    "\n",
    "        return img, label\n",
    "\n",
    "ds = ADNIDatasetForBraTSModel('/home/bruno-pacheco/brain-age/data/interim/ADNI_slices.hdf5', dataset='train')\n",
    "ds"
   ]
  },
  {
   "cell_type": "code",
   "execution_count": 3,
   "metadata": {},
   "outputs": [],
   "source": [
    "from torch.utils.data import DataLoader\n",
    "\n",
    "loader = DataLoader(ds, batch_size=2)"
   ]
  },
  {
   "cell_type": "code",
   "execution_count": 4,
   "metadata": {},
   "outputs": [
    {
     "name": "stdout",
     "output_type": "stream",
     "text": [
      "torch.Size([2, 1, 192, 160])\n",
      "torch.Size([2])\n"
     ]
    }
   ],
   "source": [
    "X, y = next(iter(loader))\n",
    "print(X.shape)\n",
    "print(y.shape)"
   ]
  },
  {
   "cell_type": "code",
   "execution_count": 12,
   "metadata": {},
   "outputs": [
    {
     "data": {
      "text/plain": [
       "tensor([0.3717, 0.3624], grad_fn=<SqueezeBackward0>)"
      ]
     },
     "execution_count": 12,
     "metadata": {},
     "output_type": "execute_result"
    }
   ],
   "source": [
    "y_pred = model(X)\n",
    "y_pred"
   ]
  },
  {
   "cell_type": "code",
   "execution_count": 13,
   "metadata": {},
   "outputs": [
    {
     "data": {
      "text/plain": [
       "tensor([76, 76], dtype=torch.uint8)"
      ]
     },
     "execution_count": 13,
     "metadata": {},
     "output_type": "execute_result"
    }
   ],
   "source": [
    "y"
   ]
  },
  {
   "cell_type": "code",
   "execution_count": 17,
   "metadata": {},
   "outputs": [
    {
     "data": {
      "text/plain": [
       "75.63298034667969"
      ]
     },
     "execution_count": 17,
     "metadata": {},
     "output_type": "execute_result"
    }
   ],
   "source": [
    "(y_pred - y).abs().mean().item()"
   ]
  },
  {
   "cell_type": "code",
   "execution_count": 16,
   "metadata": {},
   "outputs": [
    {
     "data": {
      "image/png": "[encoded data removed]",
      "text/plain": [
       "<Figure size 432x288 with 1 Axes>"
      ]
     },
     "metadata": {
      "needs_background": "light"
     },
     "output_type": "display_data"
    }
   ],
   "source": [
    "%matplotlib inline\n",
    "\n",
    "import matplotlib.pyplot as plt\n",
    "\n",
    "plt.imshow(X[0,0].detach().numpy())\n",
    "plt.show()"
   ]
  },
  {
   "cell_type": "code",
   "execution_count": 19,
   "metadata": {},
   "outputs": [
    {
     "data": {
      "image/png": "[encoded data removed]",
      "text/plain": [
       "<Figure size 432x288 with 1 Axes>"
      ]
     },
     "metadata": {
      "needs_background": "light"
     },
     "output_type": "display_data"
    }
   ],
   "source": [
    "from torchvision import transforms\n",
    "\n",
    "\n",
    "\n",
    "plt.imshow(transforms.functional.hflip(X)[0,0].detach().numpy())\n",
    "plt.show()"
   ]
  }
 ],
 "metadata": {
  "kernelspec": {
   "display_name": "Python [conda env:brats]",
   "language": "python",
   "name": "conda-env-brats-py"
  },
  "language_info": {
   "codemirror_mode": {
    "name": "ipython",
    "version": 3
   },
   "file_extension": ".py",
   "mimetype": "text/x-python",
   "name": "python",
   "nbconvert_exporter": "python",
   "pygments_lexer": "ipython3",
   "version": "3.8.5"
  }
 },
 "nbformat": 4,
 "nbformat_minor": 4
}
